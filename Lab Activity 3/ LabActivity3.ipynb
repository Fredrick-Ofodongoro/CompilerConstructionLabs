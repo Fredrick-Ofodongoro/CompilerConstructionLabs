{
  "nbformat": 4,
  "nbformat_minor": 0,
  "metadata": {
    "colab": {
      "provenance": [],
      "collapsed_sections": [],
      "authorship_tag": "ABX9TyNlGa2ytME4X9NWgr1QCkY2",
      "include_colab_link": true
    },
    "kernelspec": {
      "name": "python3",
      "display_name": "Python 3"
    },
    "language_info": {
      "name": "python"
    }
  },
  "cells": [
    {
      "cell_type": "markdown",
      "metadata": {
        "id": "view-in-github",
        "colab_type": "text"
      },
      "source": [
        "<a href=\"https://colab.research.google.com/github/Fredrick-Ofodongoro/CompilerConstructionLabs/blob/main/LabActivity3.ipynb\" target=\"_parent\"><img src=\"https://colab.research.google.com/assets/colab-badge.svg\" alt=\"Open In Colab\"/></a>"
      ]
    },
    {
      "cell_type": "markdown",
      "source": [
        "#CC Lab 3 (A lexical analyser that recognises nouns in sentences)\n",
        "\n"
      ],
      "metadata": {
        "id": "vjB6bE473rKb"
      }
    },
    {
      "cell_type": "code",
      "source": [
        "%{\n",
        "/*\n",
        " * this is a implementation of simple  noun recognition:\n",
        " * a noun/not a noun.\n",
        " */\n",
        "int count = 0;\n",
        "/*\n",
        " * the count variable is used to count the number of nouns\n",
        " */\n",
        "%}\n",
        " \n",
        "/*** Rule Section has a set of nouns that will be used***/\n",
        "%%\n",
        "[\\t ]+                   /* ignore whitespace */ ;\n",
        "\n",
        "time |\n",
        "person |\n",
        "year |\n",
        "way |\n",
        "day |\n",
        "thing |\n",
        "man |\n",
        "world |\n",
        "life |\n",
        "hand |\n",
        "part |\n",
        "child |\n",
        "eye |\n",
        "woman |\n",
        "place |\n",
        "work |\n",
        "week |\n",
        "case |\n",
        "point |\n",
        "government { printf(\"%s: is a noun\\n\", yytext); count++;}\n",
        "[a-zA-Z]+ { printf(\"%s: is not a noun\\n\", yytext); }\n",
        "\n",
        ".|\\n      {return 0;}\n",
        "%%\n",
        "\n",
        "int yywrap(){}\n",
        "int main(){\n",
        " \n",
        "// Explanation:\n",
        "// yywrap() - wraps the above rule section\n",
        "/* yyin - takes the file pointer\n",
        "          which contains the input*/\n",
        "/* yylex() - this is the main flex function\n",
        "          which runs the Rule Section*/\n",
        "// yytext is the text in the buffer\n",
        " \n",
        "\n",
        "FILE *fp;\n",
        "char noun[50];\n",
        "printf(\"Enter the sentence: \\n\");\n",
        "scanf(\"%s\", noun);\n",
        "fp = fopen(noun,\"r\");\n",
        "yyin = fp;\n",
        " \n",
        "yylex();\n",
        "printf(\"\\nNumber of Nouns \"\n",
        "      \"in the given input - %d\\n\", count);\n",
        " \n",
        "return 0;\n",
        "}"
      ],
      "metadata": {
        "id": "TDRQKrUO3s_K"
      },
      "execution_count": null,
      "outputs": []
    },
    {
      "cell_type": "markdown",
      "source": [
        "We've used the words in the code for reference. The code will be able to run the file and ask for a sentence input and then identifiy every part of the snetence and check whether it is a noun or not."
      ],
      "metadata": {
        "id": "yvw4BIeG3yr1"
      }
    }
  ]
}
