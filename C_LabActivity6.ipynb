{
  "nbformat": 4,
  "nbformat_minor": 0,
  "metadata": {
    "colab": {
      "provenance": [],
      "authorship_tag": "ABX9TyMjeBpj9Xuf9hRpFIos/5+S",
      "include_colab_link": true
    },
    "kernelspec": {
      "name": "python3",
      "display_name": "Python 3"
    },
    "language_info": {
      "name": "python"
    }
  },
  "cells": [
    {
      "cell_type": "markdown",
      "metadata": {
        "id": "view-in-github",
        "colab_type": "text"
      },
      "source": [
        "<a href=\"https://colab.research.google.com/github/Fredrick-Ofodongoro/CompilerConstructionLabs/blob/main/C_LabActivity6.ipynb\" target=\"_parent\"><img src=\"https://colab.research.google.com/assets/colab-badge.svg\" alt=\"Open In Colab\"/></a>"
      ]
    },
    {
      "cell_type": "markdown",
      "source": [
        "# CC Lab 6 (Front End phases of a compiler)"
      ],
      "metadata": {
        "id": "pFUfyrDSZqTS"
      }
    },
    {
      "cell_type": "markdown",
      "source": [
        "Sample String x+2*y"
      ],
      "metadata": {
        "id": "9slgpX7KaB_P"
      }
    },
    {
      "cell_type": "markdown",
      "source": [
        "# Lexical Analysis "
      ],
      "metadata": {
        "id": "nAPd-fa9aMFF"
      }
    },
    {
      "cell_type": "markdown",
      "source": [
        "Lexical Analysis is a process that is used to create a stream of tokens from a group of characters.\n",
        "\n",
        "1. identifier\t(id,1) -- x\n",
        "\n",
        "2. operator   (id,2) -- +\n",
        "\n",
        "3. identifier\t(addition) -- 2 \n",
        "\n",
        "4. operator  (multiplication) --*\n",
        "\n",
        "5. identifier  (id,3) --y\n",
        "\n",
        "\n"
      ],
      "metadata": {
        "id": "V3gTNGJIaQLY"
      }
    },
    {
      "cell_type": "markdown",
      "source": [
        "# Syntax Analysis"
      ],
      "metadata": {
        "id": "QawvLfQga7f-"
      }
    },
    {
      "cell_type": "markdown",
      "source": [
        "Syntax Analysis is a phase that looks at whether a string follows given principles which help determining whether a sring is correct or not.\n",
        "\n",
        "E → E + T | E - T | T \n",
        "\n",
        "T → T * F | F\n",
        "\n",
        "F → a | ( E ) \n",
        "\n",
        "the given language can generate the sample tree above\n",
        "\n"
      ],
      "metadata": {
        "id": "DboHZV-2cgoC"
      }
    },
    {
      "cell_type": "markdown",
      "source": [
        "![syntree.PNG](data:image/png;base64,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)"
      ],
      "metadata": {
        "id": "Yq8IMPby873u"
      }
    },
    {
      "cell_type": "markdown",
      "source": [
        "# Semantic Analysis "
      ],
      "metadata": {
        "id": "mtbz4Dz7bAQw"
      }
    },
    {
      "cell_type": "markdown",
      "source": [
        "Semantic analysis ensures that programme declarations and statements are semantically correct. It is a set of procedures that the parser invokes as needed by the grammar.\n",
        "\n",
        "\n",
        "The tree above will accept our tree x+2*y\n"
      ],
      "metadata": {
        "id": "RT6ocmI9tDbJ"
      }
    },
    {
      "cell_type": "markdown",
      "source": [
        "# Intermediate Representation"
      ],
      "metadata": {
        "id": "8aCOlFlybEPN"
      }
    },
    {
      "cell_type": "markdown",
      "source": [
        "t1 = x \n",
        "\n",
        "t2 = 2\n",
        "\n",
        "t3 = y\n",
        "\n",
        "t4 = t2*t3\n",
        "\n",
        "t5 = t1 + t4"
      ],
      "metadata": {
        "id": "UIIjjtdIbIB1"
      }
    }
  ]
}